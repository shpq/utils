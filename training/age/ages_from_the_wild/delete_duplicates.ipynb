{
 "cells": [
  {
   "cell_type": "code",
   "execution_count": 1,
   "metadata": {},
   "outputs": [],
   "source": [
    "from __future__ import print_function, division\n",
    "import logging\n",
    "from sklearn.utils import class_weight\n",
    "from datetime import datetime\n",
    "import numpy as np\n",
    "import json\n",
    "from sklearn import preprocessing\n",
    "from sklearn.model_selection import train_test_split\n",
    "import os\n",
    "import pandas as pd\n",
    "import numpy as np\n",
    "import matplotlib.pyplot as plt\n",
    "import time\n",
    "from tqdm import tqdm\n",
    "import albumentations as A\n",
    "import torch\n",
    "import copy\n",
    "import cv2\n",
    "import torch.nn as nn\n",
    "import torch.optim as optim\n",
    "from torch.optim import lr_scheduler\n",
    "import torchvision\n",
    "from torchvision import datasets, models, transforms\n",
    "import seaborn as sns\n",
    "from torch.utils.data import  DataLoader\n",
    "import timm\n",
    "from PIL import Image\n",
    "from IPython.display import clear_output\n",
    "from torch.utils.data import Dataset\n",
    "from torch.utils.data import DataLoader\n",
    "from albumentations.pytorch import ToTensor"
   ]
  },
  {
   "cell_type": "code",
   "execution_count": 2,
   "metadata": {},
   "outputs": [],
   "source": [
    "resnet = models.resnet50(pretrained=True)"
   ]
  },
  {
   "cell_type": "code",
   "execution_count": 3,
   "metadata": {},
   "outputs": [],
   "source": [
    "resnet = nn.Sequential(*list(resnet.children())[:-1]).to('cuda')"
   ]
  },
  {
   "cell_type": "code",
   "execution_count": 4,
   "metadata": {},
   "outputs": [],
   "source": [
    "def additional_augmenation_val(image):\n",
    "    image = image.astype('uint8')\n",
    "    comp = A.Compose([\n",
    "            A.Normalize()\n",
    "        ], p=1)\n",
    "    return comp(image=image)['image']"
   ]
  },
  {
   "cell_type": "code",
   "execution_count": 5,
   "metadata": {},
   "outputs": [],
   "source": [
    "class UTKFaceDataset(Dataset):\n",
    "    \"\"\"Custom Dataset for loading UTKFace face images\"\"\"\n",
    "\n",
    "    def __init__(self, csv_path, img_dir, transform=None, clean=False):\n",
    "\n",
    "        df = pd.read_csv(csv_path, index_col=0)\n",
    "        last_preds = [int(x.split(\"_\")[-1])\n",
    "                      for x in df.columns if \"age_pred_\" in x]\n",
    "        last_preds = max(last_preds) if last_preds else None\n",
    "        print(f\"len df before cleaning: {len(df)}\")\n",
    "        if clean and last_preds is not None:\n",
    "            df = df[clean_dataset(df[\"age\"], df[f\"age_pred_{last_preds}\"])]\n",
    "        print(f\"len df after cleaning: {len(df)}\")\n",
    "        self.img_dir = img_dir\n",
    "        self.csv_path = csv_path\n",
    "        self.img_names = df[\"name\"].values\n",
    "        self.y = df[\"age\"].values\n",
    "        self.transform = transform\n",
    "\n",
    "    def __getitem__(self, index):\n",
    "        # img = Image.open(os.path.join(self.img_dir, self.img_names[index]))\n",
    "        image = cv2.imread(os.path.join(self.img_dir, self.img_names[index]))\n",
    "        image = cv2.cvtColor(image, cv2.COLOR_BGR2RGB)\n",
    "        if self.transform is not None:\n",
    "            # img = self.transform(image=np.swapaxes(\n",
    "            #    np.swapaxes(np.array(img), 2, 0), 1, 2))[\"image\"]\n",
    "            augmented = self.transform(image=image)\n",
    "            img = augmented[\"image\"]\n",
    "\n",
    "        label = self.y[index]\n",
    "\n",
    "        return img, label\n",
    "\n",
    "    def __len__(self):\n",
    "        return self.y.shape[0]"
   ]
  },
  {
   "cell_type": "code",
   "execution_count": 6,
   "metadata": {},
   "outputs": [],
   "source": [
    "BATCH_SIZE = 300\n",
    "NUM_WORKERS = 3"
   ]
  },
  {
   "cell_type": "code",
   "execution_count": 7,
   "metadata": {},
   "outputs": [
    {
     "name": "stdout",
     "output_type": "stream",
     "text": [
      "len df before cleaning: 285416\n",
      "len df after cleaning: 285416\n"
     ]
    }
   ],
   "source": [
    "TRAIN_CSV_PATH = \"../ages_from_the_wild_v5.csv\"\n",
    "IMAGE_PATH = 'cropped_images/'\n",
    "custom_transform = A.Compose(\n",
    "    [\n",
    "        A.Resize(128, 128),\n",
    "        A.CenterCrop(120, 120),\n",
    "        A.Normalize(),\n",
    "        ToTensor(),\n",
    "    ]\n",
    ")\n",
    "train_dataset = UTKFaceDataset(\n",
    "    csv_path=TRAIN_CSV_PATH, img_dir=IMAGE_PATH, transform=custom_transform\n",
    ")\n",
    "\n",
    "train_loader = DataLoader(\n",
    "    dataset=train_dataset,\n",
    "    batch_size=BATCH_SIZE,\n",
    "    shuffle=False,\n",
    "    num_workers=NUM_WORKERS,\n",
    ")"
   ]
  },
  {
   "cell_type": "code",
   "execution_count": 8,
   "metadata": {},
   "outputs": [],
   "source": [
    "NUM_CLASSES = 51"
   ]
  },
  {
   "cell_type": "code",
   "execution_count": 9,
   "metadata": {},
   "outputs": [
    {
     "name": "stderr",
     "output_type": "stream",
     "text": [
      "100%|██████████| 952/952 [10:08<00:00,  1.56it/s]\n"
     ]
    }
   ],
   "source": [
    "psx = None\n",
    "lab = None\n",
    "for inputs, labels in tqdm(train_loader):\n",
    "    output = resnet(inputs.to('cuda'))\n",
    "    output = np.array(output.detach().cpu())\n",
    "    if psx is None and lab is None:\n",
    "        psx = output\n",
    "        lab = labels\n",
    "        continue\n",
    "    psx = np.vstack((psx, output))\n",
    "    lab = np.hstack((lab, labels))"
   ]
  },
  {
   "cell_type": "code",
   "execution_count": 10,
   "metadata": {},
   "outputs": [
    {
     "data": {
      "text/plain": [
       "(285416, 2048, 1, 1)"
      ]
     },
     "execution_count": 10,
     "metadata": {},
     "output_type": "execute_result"
    }
   ],
   "source": [
    "psx.shape"
   ]
  },
  {
   "cell_type": "code",
   "execution_count": 17,
   "metadata": {},
   "outputs": [
    {
     "name": "stdout",
     "output_type": "stream",
     "text": [
      "len df before cleaning: 285416\n",
      "len df after cleaning: 285416\n"
     ]
    }
   ],
   "source": [
    "custom_transform = A.Compose(\n",
    "    [\n",
    "        A.Resize(128, 128),\n",
    "    ]\n",
    ")\n",
    "dataset_look = UTKFaceDataset(\n",
    "    csv_path=TRAIN_CSV_PATH, img_dir=IMAGE_PATH, transform=custom_transform\n",
    ")\n"
   ]
  },
  {
   "cell_type": "code",
   "execution_count": 12,
   "metadata": {},
   "outputs": [],
   "source": [
    "from sklearn.metrics.pairwise import cosine_similarity\n",
    "\n",
    "psx_ = np.zeros((len(psx), 2048))\n",
    "for i in range(psx.shape[0]):\n",
    "    psx_[i, :] = psx[i, :].reshape(-1)\n",
    "del psx"
   ]
  },
  {
   "cell_type": "code",
   "execution_count": 13,
   "metadata": {},
   "outputs": [],
   "source": [
    "\n",
    "psx_ = psx_.astype('float32')\n",
    "\n"
   ]
  },
  {
   "cell_type": "code",
   "execution_count": 37,
   "metadata": {},
   "outputs": [],
   "source": [
    "ages = np.unique(lab)"
   ]
  },
  {
   "cell_type": "code",
   "execution_count": 98,
   "metadata": {},
   "outputs": [],
   "source": [
    "from tqdm import tqdm"
   ]
  },
  {
   "cell_type": "code",
   "execution_count": 99,
   "metadata": {},
   "outputs": [],
   "source": [
    "all_to_del = []"
   ]
  },
  {
   "cell_type": "code",
   "execution_count": 131,
   "metadata": {},
   "outputs": [
    {
     "name": "stderr",
     "output_type": "stream",
     "text": [
      "  2%|▏         | 1/51 [00:01<01:30,  1.80s/it]"
     ]
    },
    {
     "name": "stdout",
     "output_type": "stream",
     "text": [
      "to del  192\n"
     ]
    },
    {
     "name": "stderr",
     "output_type": "stream",
     "text": [
      "  4%|▍         | 2/51 [00:02<01:07,  1.39s/it]"
     ]
    },
    {
     "name": "stdout",
     "output_type": "stream",
     "text": [
      "to del  11\n"
     ]
    },
    {
     "name": "stderr",
     "output_type": "stream",
     "text": [
      "  6%|▌         | 3/51 [00:03<01:05,  1.36s/it]"
     ]
    },
    {
     "name": "stdout",
     "output_type": "stream",
     "text": [
      "to del  49\n"
     ]
    },
    {
     "name": "stderr",
     "output_type": "stream",
     "text": [
      "  8%|▊         | 4/51 [00:03<00:48,  1.02s/it]"
     ]
    },
    {
     "name": "stdout",
     "output_type": "stream",
     "text": [
      "to del  15\n"
     ]
    },
    {
     "name": "stderr",
     "output_type": "stream",
     "text": [
      " 12%|█▏        | 6/51 [00:04<00:27,  1.63it/s]"
     ]
    },
    {
     "name": "stdout",
     "output_type": "stream",
     "text": [
      "to del  18\n",
      "to del  7\n"
     ]
    },
    {
     "name": "stderr",
     "output_type": "stream",
     "text": [
      " 16%|█▌        | 8/51 [00:04<00:19,  2.19it/s]"
     ]
    },
    {
     "name": "stdout",
     "output_type": "stream",
     "text": [
      "to del  5\n",
      "to del  14\n",
      "to del  5\n",
      "to del  5\n"
     ]
    },
    {
     "name": "stderr",
     "output_type": "stream",
     "text": [
      " 27%|██▋       | 14/51 [00:04<00:09,  4.02it/s]"
     ]
    },
    {
     "name": "stdout",
     "output_type": "stream",
     "text": [
      "to del  4\n",
      "to del  4\n",
      "to del  0\n",
      "to del  15\n",
      "to del  91\n"
     ]
    },
    {
     "name": "stderr",
     "output_type": "stream",
     "text": [
      " 31%|███▏      | 16/51 [00:11<00:39,  1.13s/it]"
     ]
    },
    {
     "name": "stdout",
     "output_type": "stream",
     "text": [
      "to del  45\n"
     ]
    },
    {
     "name": "stderr",
     "output_type": "stream",
     "text": [
      " 33%|███▎      | 17/51 [00:13<00:53,  1.58s/it]"
     ]
    },
    {
     "name": "stdout",
     "output_type": "stream",
     "text": [
      "to del  71\n"
     ]
    },
    {
     "name": "stderr",
     "output_type": "stream",
     "text": [
      " 35%|███▌      | 18/51 [00:17<01:15,  2.30s/it]"
     ]
    },
    {
     "name": "stdout",
     "output_type": "stream",
     "text": [
      "to del  68\n"
     ]
    },
    {
     "name": "stderr",
     "output_type": "stream",
     "text": [
      " 37%|███▋      | 19/51 [00:18<00:55,  1.73s/it]"
     ]
    },
    {
     "name": "stdout",
     "output_type": "stream",
     "text": [
      "to del  35\n"
     ]
    },
    {
     "name": "stderr",
     "output_type": "stream",
     "text": [
      " 39%|███▉      | 20/51 [00:18<00:45,  1.47s/it]"
     ]
    },
    {
     "name": "stdout",
     "output_type": "stream",
     "text": [
      "to del  45\n"
     ]
    },
    {
     "name": "stderr",
     "output_type": "stream",
     "text": [
      " 43%|████▎     | 22/51 [00:19<00:23,  1.21it/s]"
     ]
    },
    {
     "name": "stdout",
     "output_type": "stream",
     "text": [
      "to del  27\n",
      "to del  74\n"
     ]
    },
    {
     "name": "stderr",
     "output_type": "stream",
     "text": [
      " 45%|████▌     | 23/51 [00:19<00:19,  1.42it/s]"
     ]
    },
    {
     "name": "stdout",
     "output_type": "stream",
     "text": [
      "to del  18\n"
     ]
    },
    {
     "name": "stderr",
     "output_type": "stream",
     "text": [
      " 47%|████▋     | 24/51 [00:20<00:16,  1.61it/s]"
     ]
    },
    {
     "name": "stdout",
     "output_type": "stream",
     "text": [
      "to del  12\n"
     ]
    },
    {
     "name": "stderr",
     "output_type": "stream",
     "text": [
      " 49%|████▉     | 25/51 [00:20<00:13,  1.88it/s]"
     ]
    },
    {
     "name": "stdout",
     "output_type": "stream",
     "text": [
      "to del  16\n"
     ]
    },
    {
     "name": "stderr",
     "output_type": "stream",
     "text": [
      " 51%|█████     | 26/51 [00:23<00:33,  1.33s/it]"
     ]
    },
    {
     "name": "stdout",
     "output_type": "stream",
     "text": [
      "to del  46\n"
     ]
    },
    {
     "name": "stderr",
     "output_type": "stream",
     "text": [
      " 53%|█████▎    | 27/51 [00:26<00:44,  1.83s/it]"
     ]
    },
    {
     "name": "stdout",
     "output_type": "stream",
     "text": [
      "to del  28\n"
     ]
    },
    {
     "name": "stderr",
     "output_type": "stream",
     "text": [
      " 55%|█████▍    | 28/51 [00:29<00:48,  2.10s/it]"
     ]
    },
    {
     "name": "stdout",
     "output_type": "stream",
     "text": [
      "to del  44\n"
     ]
    },
    {
     "name": "stderr",
     "output_type": "stream",
     "text": [
      " 57%|█████▋    | 29/51 [00:29<00:34,  1.59s/it]"
     ]
    },
    {
     "name": "stdout",
     "output_type": "stream",
     "text": [
      "to del  21\n"
     ]
    },
    {
     "name": "stderr",
     "output_type": "stream",
     "text": [
      " 59%|█████▉    | 30/51 [00:31<00:35,  1.70s/it]"
     ]
    },
    {
     "name": "stdout",
     "output_type": "stream",
     "text": [
      "to del  43\n"
     ]
    },
    {
     "name": "stderr",
     "output_type": "stream",
     "text": [
      " 61%|██████    | 31/51 [00:32<00:27,  1.38s/it]"
     ]
    },
    {
     "name": "stdout",
     "output_type": "stream",
     "text": [
      "to del  29\n"
     ]
    },
    {
     "name": "stderr",
     "output_type": "stream",
     "text": [
      " 63%|██████▎   | 32/51 [00:33<00:23,  1.25s/it]"
     ]
    },
    {
     "name": "stdout",
     "output_type": "stream",
     "text": [
      "to del  22\n"
     ]
    },
    {
     "name": "stderr",
     "output_type": "stream",
     "text": [
      " 65%|██████▍   | 33/51 [00:33<00:18,  1.05s/it]"
     ]
    },
    {
     "name": "stdout",
     "output_type": "stream",
     "text": [
      "to del  11\n"
     ]
    },
    {
     "name": "stderr",
     "output_type": "stream",
     "text": [
      " 67%|██████▋   | 34/51 [00:34<00:14,  1.18it/s]"
     ]
    },
    {
     "name": "stdout",
     "output_type": "stream",
     "text": [
      "to del  13\n"
     ]
    },
    {
     "name": "stderr",
     "output_type": "stream",
     "text": [
      " 69%|██████▊   | 35/51 [00:34<00:11,  1.43it/s]"
     ]
    },
    {
     "name": "stdout",
     "output_type": "stream",
     "text": [
      "to del  13\n"
     ]
    },
    {
     "name": "stderr",
     "output_type": "stream",
     "text": [
      " 71%|███████   | 36/51 [00:35<00:09,  1.61it/s]"
     ]
    },
    {
     "name": "stdout",
     "output_type": "stream",
     "text": [
      "to del  24\n"
     ]
    },
    {
     "name": "stderr",
     "output_type": "stream",
     "text": [
      " 73%|███████▎  | 37/51 [00:35<00:07,  1.78it/s]"
     ]
    },
    {
     "name": "stdout",
     "output_type": "stream",
     "text": [
      "to del  29\n"
     ]
    },
    {
     "name": "stderr",
     "output_type": "stream",
     "text": [
      " 75%|███████▍  | 38/51 [00:35<00:06,  2.15it/s]"
     ]
    },
    {
     "name": "stdout",
     "output_type": "stream",
     "text": [
      "to del  7\n"
     ]
    },
    {
     "name": "stderr",
     "output_type": "stream",
     "text": [
      " 76%|███████▋  | 39/51 [00:36<00:04,  2.43it/s]"
     ]
    },
    {
     "name": "stdout",
     "output_type": "stream",
     "text": [
      "to del  23\n"
     ]
    },
    {
     "name": "stderr",
     "output_type": "stream",
     "text": [
      " 78%|███████▊  | 40/51 [00:36<00:03,  2.81it/s]"
     ]
    },
    {
     "name": "stdout",
     "output_type": "stream",
     "text": [
      "to del  26\n"
     ]
    },
    {
     "name": "stderr",
     "output_type": "stream",
     "text": [
      " 80%|████████  | 41/51 [00:39<00:12,  1.26s/it]"
     ]
    },
    {
     "name": "stdout",
     "output_type": "stream",
     "text": [
      "to del  107\n"
     ]
    },
    {
     "name": "stderr",
     "output_type": "stream",
     "text": [
      " 84%|████████▍ | 43/51 [00:40<00:06,  1.31it/s]"
     ]
    },
    {
     "name": "stdout",
     "output_type": "stream",
     "text": [
      "to del  28\n",
      "to del  3\n"
     ]
    },
    {
     "name": "stderr",
     "output_type": "stream",
     "text": [
      " 86%|████████▋ | 44/51 [00:40<00:04,  1.75it/s]"
     ]
    },
    {
     "name": "stdout",
     "output_type": "stream",
     "text": [
      "to del  6\n"
     ]
    },
    {
     "name": "stderr",
     "output_type": "stream",
     "text": [
      " 88%|████████▊ | 45/51 [00:40<00:02,  2.09it/s]"
     ]
    },
    {
     "name": "stdout",
     "output_type": "stream",
     "text": [
      "to del  9\n"
     ]
    },
    {
     "name": "stderr",
     "output_type": "stream",
     "text": [
      " 96%|█████████▌| 49/51 [00:41<00:00,  2.91it/s]"
     ]
    },
    {
     "name": "stdout",
     "output_type": "stream",
     "text": [
      "to del  23\n",
      "to del  5\n",
      "to del  2\n",
      "to del  3\n",
      "to del  1\n"
     ]
    },
    {
     "name": "stderr",
     "output_type": "stream",
     "text": [
      "100%|██████████| 51/51 [00:49<00:00,  1.03it/s]"
     ]
    },
    {
     "name": "stdout",
     "output_type": "stream",
     "text": [
      "to del  169\n"
     ]
    },
    {
     "name": "stderr",
     "output_type": "stream",
     "text": [
      "\n"
     ]
    }
   ],
   "source": [
    "for age in tqdm(ages):\n",
    "\n",
    "    sim = cosine_similarity(psx_[lab==age], dense_output=False)\n",
    "\n",
    "    args = np.argwhere(sim > 0.92)\n",
    "\n",
    "    args = args[args[:, 0] < args[:, 1],:]\n",
    "    \"\"\"for arg in args:\n",
    "        clear_output()\n",
    "        print(sim[arg[0], arg[1]])\n",
    "        print(np.where(lab==age)[0][arg[0]])\n",
    "        display(Image.fromarray(dataset_look[np.where(lab==age)[0][arg[0]]][0].astype('uint8')))\n",
    "        print(np.where(lab==age)[0][arg[1]])\n",
    "        display(Image.fromarray(dataset_look[np.where(lab==age)[0][arg[1]]][0].astype('uint8')))\n",
    "        a = input()\n",
    "        if a == 'e':\n",
    "            break\n",
    "        if a == 'no':\n",
    "            raise\n",
    "    \"\"\"\n",
    "    to_del = list(np.where(lab==age)[0][args[:, 1]])\n",
    "\n",
    "    to_del = list(set(to_del))\n",
    "\n",
    "    print(\"to del \", len(to_del))\n",
    "    all_to_del += to_del"
   ]
  },
  {
   "cell_type": "code",
   "execution_count": 134,
   "metadata": {
    "collapsed": true,
    "jupyter": {
     "outputs_hidden": true
    }
   },
   "outputs": [
    {
     "data": {
      "text/plain": [
       "[128004,\n",
       " 271883,\n",
       " 201741,\n",
       " 217613,\n",
       " 43535,\n",
       " 273424,\n",
       " 252947,\n",
       " 244244,\n",
       " 48661,\n",
       " 241685,\n",
       " 147989,\n",
       " 177172,\n",
       " 114713,\n",
       " 208403,\n",
       " 241179,\n",
       " 206369,\n",
       " 228898,\n",
       " 39969,\n",
       " 169000,\n",
       " 247853,\n",
       " 208945,\n",
       " 148017,\n",
       " 205873,\n",
       " 108084,\n",
       " 165438,\n",
       " 5695,\n",
       " 23104,\n",
       " 105540,\n",
       " 281668,\n",
       " 62537,\n",
       " 109129,\n",
       " 251977,\n",
       " 247881,\n",
       " 60493,\n",
       " 108109,\n",
       " 120398,\n",
       " 116819,\n",
       " 247382,\n",
       " 144473,\n",
       " 190554,\n",
       " 200285,\n",
       " 165471,\n",
       " 238177,\n",
       " 4196,\n",
       " 73316,\n",
       " 82534,\n",
       " 262250,\n",
       " 216682,\n",
       " 158318,\n",
       " 55409,\n",
       " 41075,\n",
       " 142964,\n",
       " 223866,\n",
       " 246394,\n",
       " 108156,\n",
       " 77949,\n",
       " 158333,\n",
       " 171649,\n",
       " 279170,\n",
       " 244866,\n",
       " 64132,\n",
       " 16517,\n",
       " 206979,\n",
       " 273028,\n",
       " 193164,\n",
       " 186509,\n",
       " 160405,\n",
       " 235159,\n",
       " 29337,\n",
       " 92318,\n",
       " 262303,\n",
       " 59041,\n",
       " 40615,\n",
       " 230567,\n",
       " 208551,\n",
       " 183978,\n",
       " 263851,\n",
       " 70832,\n",
       " 41650,\n",
       " 129209,\n",
       " 105658,\n",
       " 89787,\n",
       " 173757,\n",
       " 126655,\n",
       " 87748,\n",
       " 267972,\n",
       " 173257,\n",
       " 68297,\n",
       " 114377,\n",
       " 180426,\n",
       " 25289,\n",
       " 277201,\n",
       " 11988,\n",
       " 159445,\n",
       " 237782,\n",
       " 106711,\n",
       " 47320,\n",
       " 202467,\n",
       " 123619,\n",
       " 194277,\n",
       " 159462,\n",
       " 276196,\n",
       " 8939,\n",
       " 265964,\n",
       " 213230,\n",
       " 129778,\n",
       " 220407,\n",
       " 280312,\n",
       " 199418,\n",
       " 202498,\n",
       " 282371,\n",
       " 194309,\n",
       " 179463,\n",
       " 44809,\n",
       " 250122,\n",
       " 206603,\n",
       " 201484,\n",
       " 250125,\n",
       " 272655,\n",
       " 218903,\n",
       " 218395,\n",
       " 186140,\n",
       " 104733,\n",
       " 206111,\n",
       " 51488,\n",
       " 51489,\n",
       " 100129,\n",
       " 283425,\n",
       " 83239,\n",
       " 21800,\n",
       " 177972,\n",
       " 177982,\n",
       " 115518,\n",
       " 150335,\n",
       " 84804,\n",
       " 187204,\n",
       " 116039,\n",
       " 275275,\n",
       " 4428,\n",
       " 279371,\n",
       " 116046,\n",
       " 39759,\n",
       " 222542,\n",
       " 109905,\n",
       " 189266,\n",
       " 90962,\n",
       " 180056,\n",
       " 86360,\n",
       " 51548,\n",
       " 68451,\n",
       " 79203,\n",
       " 116070,\n",
       " 259949,\n",
       " 148354,\n",
       " 269192,\n",
       " 115595,\n",
       " 218512,\n",
       " 145301,\n",
       " 66462,\n",
       " 138654,\n",
       " 281505,\n",
       " 242081,\n",
       " 145317,\n",
       " 175526,\n",
       " 52647,\n",
       " 157609,\n",
       " 251305,\n",
       " 189356,\n",
       " 217005,\n",
       " 154542,\n",
       " 99759,\n",
       " 161711,\n",
       " 208823,\n",
       " 131001,\n",
       " 116155,\n",
       " 92098,\n",
       " 182723,\n",
       " 271812,\n",
       " 46023,\n",
       " 184775,\n",
       " 107464,\n",
       " 139211,\n",
       " 269772,\n",
       " 166861,\n",
       " 220125,\n",
       " 176100,\n",
       " 215015,\n",
       " 281063,\n",
       " 118254,\n",
       " 10739,\n",
       " 264691,\n",
       " 134651,\n",
       " 128004,\n",
       " 271883,\n",
       " 201741,\n",
       " 217613,\n",
       " 43535,\n",
       " 273424,\n",
       " 252947,\n",
       " 244244,\n",
       " 48661,\n",
       " 241685,\n",
       " 147989,\n",
       " 177172,\n",
       " 114713,\n",
       " 208403,\n",
       " 241179,\n",
       " 206369,\n",
       " 228898,\n",
       " 39969,\n",
       " 169000,\n",
       " 247853,\n",
       " 208945,\n",
       " 148017,\n",
       " 205873,\n",
       " 108084,\n",
       " 165438,\n",
       " 5695,\n",
       " 23104,\n",
       " 105540,\n",
       " 281668,\n",
       " 62537,\n",
       " 109129,\n",
       " 251977,\n",
       " 247881,\n",
       " 60493,\n",
       " 108109,\n",
       " 120398,\n",
       " 116819,\n",
       " 247382,\n",
       " 144473,\n",
       " 190554,\n",
       " 200285,\n",
       " 165471,\n",
       " 238177,\n",
       " 4196,\n",
       " 73316,\n",
       " 82534,\n",
       " 262250,\n",
       " 216682,\n",
       " 158318,\n",
       " 55409,\n",
       " 41075,\n",
       " 142964,\n",
       " 223866,\n",
       " 246394,\n",
       " 108156,\n",
       " 77949,\n",
       " 158333,\n",
       " 171649,\n",
       " 279170,\n",
       " 244866,\n",
       " 64132,\n",
       " 16517,\n",
       " 206979,\n",
       " 273028,\n",
       " 193164,\n",
       " 186509,\n",
       " 160405,\n",
       " 235159,\n",
       " 29337,\n",
       " 92318,\n",
       " 262303,\n",
       " 59041,\n",
       " 40615,\n",
       " 230567,\n",
       " 208551,\n",
       " 183978,\n",
       " 263851,\n",
       " 70832,\n",
       " 41650,\n",
       " 129209,\n",
       " 105658,\n",
       " 89787,\n",
       " 173757,\n",
       " 126655,\n",
       " 87748,\n",
       " 267972,\n",
       " 173257,\n",
       " 68297,\n",
       " 114377,\n",
       " 180426,\n",
       " 25289,\n",
       " 277201,\n",
       " 11988,\n",
       " 159445,\n",
       " 237782,\n",
       " 106711,\n",
       " 47320,\n",
       " 202467,\n",
       " 123619,\n",
       " 194277,\n",
       " 159462,\n",
       " 276196,\n",
       " 8939,\n",
       " 265964,\n",
       " 213230,\n",
       " 129778,\n",
       " 220407,\n",
       " 280312,\n",
       " 199418,\n",
       " 202498,\n",
       " 282371,\n",
       " 194309,\n",
       " 179463,\n",
       " 44809,\n",
       " 250122,\n",
       " 206603,\n",
       " 201484,\n",
       " 250125,\n",
       " 272655,\n",
       " 218903,\n",
       " 218395,\n",
       " 186140,\n",
       " 104733,\n",
       " 206111,\n",
       " 51488,\n",
       " 51489,\n",
       " 100129,\n",
       " 283425,\n",
       " 83239,\n",
       " 21800,\n",
       " 177972,\n",
       " 177982,\n",
       " 115518,\n",
       " 150335,\n",
       " 84804,\n",
       " 187204,\n",
       " 116039,\n",
       " 275275,\n",
       " 4428,\n",
       " 279371,\n",
       " 116046,\n",
       " 39759,\n",
       " 222542,\n",
       " 109905,\n",
       " 189266,\n",
       " 90962,\n",
       " 180056,\n",
       " 86360,\n",
       " 51548,\n",
       " 68451,\n",
       " 79203,\n",
       " 116070,\n",
       " 259949,\n",
       " 148354,\n",
       " 269192,\n",
       " 115595,\n",
       " 218512,\n",
       " 145301,\n",
       " 66462,\n",
       " 138654,\n",
       " 281505,\n",
       " 242081,\n",
       " 145317,\n",
       " 175526,\n",
       " 52647,\n",
       " 157609,\n",
       " 251305,\n",
       " 189356,\n",
       " 217005,\n",
       " 154542,\n",
       " 99759,\n",
       " 161711,\n",
       " 208823,\n",
       " 131001,\n",
       " 116155,\n",
       " 92098,\n",
       " 182723,\n",
       " 271812,\n",
       " 46023,\n",
       " 184775,\n",
       " 107464,\n",
       " 139211,\n",
       " 269772,\n",
       " 166861,\n",
       " 220125,\n",
       " 176100,\n",
       " 215015,\n",
       " 281063,\n",
       " 118254,\n",
       " 10739,\n",
       " 264691,\n",
       " 134651,\n",
       " 57957,\n",
       " 192806,\n",
       " 97545,\n",
       " 238651,\n",
       " 192845,\n",
       " 160111,\n",
       " 257873,\n",
       " 284338,\n",
       " 210838,\n",
       " 201787,\n",
       " 262748,\n",
       " 128004,\n",
       " 271883,\n",
       " 201741,\n",
       " 217613,\n",
       " 43535,\n",
       " 273424,\n",
       " 252947,\n",
       " 244244,\n",
       " 48661,\n",
       " 241685,\n",
       " 147989,\n",
       " 177172,\n",
       " 114713,\n",
       " 208403,\n",
       " 241179,\n",
       " 206369,\n",
       " 228898,\n",
       " 39969,\n",
       " 169000,\n",
       " 247853,\n",
       " 208945,\n",
       " 148017,\n",
       " 205873,\n",
       " 108084,\n",
       " 165438,\n",
       " 5695,\n",
       " 23104,\n",
       " 105540,\n",
       " 281668,\n",
       " 62537,\n",
       " 109129,\n",
       " 251977,\n",
       " 247881,\n",
       " 60493,\n",
       " 108109,\n",
       " 120398,\n",
       " 116819,\n",
       " 247382,\n",
       " 144473,\n",
       " 190554,\n",
       " 200285,\n",
       " 165471,\n",
       " 238177,\n",
       " 4196,\n",
       " 73316,\n",
       " 82534,\n",
       " 262250,\n",
       " 216682,\n",
       " 158318,\n",
       " 55409,\n",
       " 41075,\n",
       " 142964,\n",
       " 223866,\n",
       " 246394,\n",
       " 108156,\n",
       " 77949,\n",
       " 158333,\n",
       " 171649,\n",
       " 279170,\n",
       " 244866,\n",
       " 64132,\n",
       " 16517,\n",
       " 206979,\n",
       " 273028,\n",
       " 193164,\n",
       " 186509,\n",
       " 160405,\n",
       " 235159,\n",
       " 29337,\n",
       " 92318,\n",
       " 262303,\n",
       " 59041,\n",
       " 40615,\n",
       " 230567,\n",
       " 208551,\n",
       " 183978,\n",
       " 263851,\n",
       " 70832,\n",
       " 41650,\n",
       " 129209,\n",
       " 105658,\n",
       " 89787,\n",
       " 173757,\n",
       " 126655,\n",
       " 87748,\n",
       " 267972,\n",
       " 173257,\n",
       " 68297,\n",
       " 114377,\n",
       " 180426,\n",
       " 25289,\n",
       " 277201,\n",
       " 11988,\n",
       " 159445,\n",
       " 237782,\n",
       " 106711,\n",
       " 47320,\n",
       " 202467,\n",
       " 123619,\n",
       " 194277,\n",
       " 159462,\n",
       " 276196,\n",
       " 8939,\n",
       " 265964,\n",
       " 213230,\n",
       " 129778,\n",
       " 220407,\n",
       " 280312,\n",
       " 199418,\n",
       " 202498,\n",
       " 282371,\n",
       " 194309,\n",
       " 179463,\n",
       " 44809,\n",
       " 250122,\n",
       " 206603,\n",
       " 201484,\n",
       " 250125,\n",
       " 272655,\n",
       " 218903,\n",
       " 218395,\n",
       " 186140,\n",
       " 104733,\n",
       " 206111,\n",
       " 51488,\n",
       " 51489,\n",
       " 100129,\n",
       " 283425,\n",
       " 83239,\n",
       " 21800,\n",
       " 177972,\n",
       " 177982,\n",
       " 115518,\n",
       " 150335,\n",
       " 84804,\n",
       " 187204,\n",
       " 116039,\n",
       " 275275,\n",
       " 4428,\n",
       " 279371,\n",
       " 116046,\n",
       " 39759,\n",
       " 222542,\n",
       " 109905,\n",
       " 189266,\n",
       " 90962,\n",
       " 180056,\n",
       " 86360,\n",
       " 51548,\n",
       " 68451,\n",
       " 79203,\n",
       " 116070,\n",
       " 259949,\n",
       " 148354,\n",
       " 269192,\n",
       " 115595,\n",
       " 218512,\n",
       " 145301,\n",
       " 66462,\n",
       " 138654,\n",
       " 281505,\n",
       " 242081,\n",
       " 145317,\n",
       " 175526,\n",
       " 52647,\n",
       " 157609,\n",
       " 251305,\n",
       " 189356,\n",
       " 217005,\n",
       " 154542,\n",
       " 99759,\n",
       " 161711,\n",
       " 208823,\n",
       " 131001,\n",
       " 116155,\n",
       " 92098,\n",
       " 182723,\n",
       " 271812,\n",
       " 46023,\n",
       " 184775,\n",
       " 107464,\n",
       " 139211,\n",
       " 269772,\n",
       " 166861,\n",
       " 220125,\n",
       " 176100,\n",
       " 215015,\n",
       " 281063,\n",
       " 118254,\n",
       " 10739,\n",
       " 264691,\n",
       " 134651,\n",
       " 128004,\n",
       " 271883,\n",
       " 201741,\n",
       " 217613,\n",
       " 43535,\n",
       " 273424,\n",
       " 252947,\n",
       " 244244,\n",
       " 48661,\n",
       " 241685,\n",
       " 147989,\n",
       " 177172,\n",
       " 114713,\n",
       " 208403,\n",
       " 241179,\n",
       " 206369,\n",
       " 228898,\n",
       " 39969,\n",
       " 169000,\n",
       " 247853,\n",
       " 208945,\n",
       " 148017,\n",
       " 205873,\n",
       " 108084,\n",
       " 165438,\n",
       " 5695,\n",
       " 23104,\n",
       " 105540,\n",
       " 281668,\n",
       " 62537,\n",
       " 109129,\n",
       " 251977,\n",
       " 247881,\n",
       " 60493,\n",
       " 108109,\n",
       " 120398,\n",
       " 116819,\n",
       " 247382,\n",
       " 144473,\n",
       " 190554,\n",
       " 200285,\n",
       " 165471,\n",
       " 238177,\n",
       " 4196,\n",
       " 73316,\n",
       " 82534,\n",
       " 262250,\n",
       " 216682,\n",
       " 158318,\n",
       " 55409,\n",
       " 41075,\n",
       " 142964,\n",
       " 223866,\n",
       " 246394,\n",
       " 108156,\n",
       " 77949,\n",
       " 158333,\n",
       " 171649,\n",
       " 279170,\n",
       " 244866,\n",
       " 64132,\n",
       " 16517,\n",
       " 206979,\n",
       " 273028,\n",
       " 193164,\n",
       " 186509,\n",
       " 160405,\n",
       " 235159,\n",
       " 29337,\n",
       " 92318,\n",
       " 262303,\n",
       " 59041,\n",
       " 40615,\n",
       " 230567,\n",
       " 208551,\n",
       " 183978,\n",
       " 263851,\n",
       " 70832,\n",
       " 41650,\n",
       " 129209,\n",
       " 105658,\n",
       " 89787,\n",
       " 173757,\n",
       " 126655,\n",
       " 87748,\n",
       " 267972,\n",
       " 173257,\n",
       " 68297,\n",
       " 114377,\n",
       " 180426,\n",
       " 25289,\n",
       " 277201,\n",
       " 11988,\n",
       " 159445,\n",
       " 237782,\n",
       " 106711,\n",
       " 47320,\n",
       " 202467,\n",
       " 123619,\n",
       " 194277,\n",
       " 159462,\n",
       " 276196,\n",
       " 8939,\n",
       " 265964,\n",
       " 213230,\n",
       " 129778,\n",
       " 220407,\n",
       " 280312,\n",
       " 199418,\n",
       " 202498,\n",
       " 282371,\n",
       " 194309,\n",
       " 179463,\n",
       " 44809,\n",
       " 250122,\n",
       " 206603,\n",
       " 201484,\n",
       " 250125,\n",
       " 272655,\n",
       " 218903,\n",
       " 218395,\n",
       " 186140,\n",
       " 104733,\n",
       " 206111,\n",
       " 51488,\n",
       " 51489,\n",
       " 100129,\n",
       " 283425,\n",
       " 83239,\n",
       " 21800,\n",
       " 177972,\n",
       " 177982,\n",
       " 115518,\n",
       " 150335,\n",
       " 84804,\n",
       " 187204,\n",
       " 116039,\n",
       " 275275,\n",
       " 4428,\n",
       " 279371,\n",
       " 116046,\n",
       " 39759,\n",
       " 222542,\n",
       " 109905,\n",
       " 189266,\n",
       " 90962,\n",
       " 180056,\n",
       " 86360,\n",
       " 51548,\n",
       " 68451,\n",
       " 79203,\n",
       " 116070,\n",
       " 259949,\n",
       " 148354,\n",
       " 269192,\n",
       " 115595,\n",
       " 218512,\n",
       " 145301,\n",
       " 66462,\n",
       " 138654,\n",
       " 281505,\n",
       " 242081,\n",
       " 145317,\n",
       " 175526,\n",
       " 52647,\n",
       " 157609,\n",
       " 251305,\n",
       " 189356,\n",
       " 217005,\n",
       " 154542,\n",
       " 99759,\n",
       " 161711,\n",
       " 208823,\n",
       " 131001,\n",
       " 116155,\n",
       " 92098,\n",
       " 182723,\n",
       " 271812,\n",
       " 46023,\n",
       " 184775,\n",
       " 107464,\n",
       " 139211,\n",
       " 269772,\n",
       " 166861,\n",
       " 220125,\n",
       " 176100,\n",
       " 215015,\n",
       " 281063,\n",
       " 118254,\n",
       " 10739,\n",
       " 264691,\n",
       " 134651,\n",
       " 128004,\n",
       " 271883,\n",
       " 201741,\n",
       " 217613,\n",
       " 43535,\n",
       " 273424,\n",
       " 252947,\n",
       " 244244,\n",
       " 48661,\n",
       " 241685,\n",
       " 147989,\n",
       " 177172,\n",
       " 114713,\n",
       " 208403,\n",
       " 241179,\n",
       " 206369,\n",
       " 228898,\n",
       " 39969,\n",
       " 169000,\n",
       " 247853,\n",
       " 208945,\n",
       " 148017,\n",
       " 205873,\n",
       " 108084,\n",
       " 165438,\n",
       " 5695,\n",
       " 23104,\n",
       " 105540,\n",
       " 281668,\n",
       " 62537,\n",
       " 109129,\n",
       " 251977,\n",
       " 247881,\n",
       " 60493,\n",
       " 108109,\n",
       " 120398,\n",
       " 116819,\n",
       " 247382,\n",
       " 144473,\n",
       " 190554,\n",
       " 200285,\n",
       " 165471,\n",
       " 238177,\n",
       " 4196,\n",
       " 73316,\n",
       " 82534,\n",
       " 262250,\n",
       " 216682,\n",
       " 158318,\n",
       " 55409,\n",
       " 41075,\n",
       " 142964,\n",
       " 223866,\n",
       " 246394,\n",
       " 108156,\n",
       " 77949,\n",
       " 158333,\n",
       " 171649,\n",
       " 279170,\n",
       " 244866,\n",
       " 64132,\n",
       " 16517,\n",
       " 206979,\n",
       " 273028,\n",
       " 193164,\n",
       " 186509,\n",
       " 160405,\n",
       " 235159,\n",
       " 29337,\n",
       " 92318,\n",
       " 262303,\n",
       " 59041,\n",
       " 40615,\n",
       " 230567,\n",
       " 208551,\n",
       " 183978,\n",
       " 263851,\n",
       " 70832,\n",
       " 41650,\n",
       " 129209,\n",
       " 105658,\n",
       " 89787,\n",
       " 173757,\n",
       " 126655,\n",
       " 87748,\n",
       " 267972,\n",
       " 173257,\n",
       " 68297,\n",
       " 114377,\n",
       " 180426,\n",
       " 25289,\n",
       " 277201,\n",
       " 11988,\n",
       " 159445,\n",
       " 237782,\n",
       " 106711,\n",
       " 47320,\n",
       " 202467,\n",
       " 123619,\n",
       " 194277,\n",
       " 159462,\n",
       " 276196,\n",
       " 8939,\n",
       " 265964,\n",
       " 213230,\n",
       " 129778,\n",
       " 220407,\n",
       " 280312,\n",
       " 199418,\n",
       " 202498,\n",
       " 282371,\n",
       " 194309,\n",
       " 179463,\n",
       " 44809,\n",
       " 250122,\n",
       " 206603,\n",
       " 201484,\n",
       " 250125,\n",
       " 272655,\n",
       " 218903,\n",
       " 218395,\n",
       " 186140,\n",
       " 104733,\n",
       " 206111,\n",
       " 51488,\n",
       " 51489,\n",
       " 100129,\n",
       " 283425,\n",
       " 83239,\n",
       " 21800,\n",
       " 177972,\n",
       " 177982,\n",
       " 115518,\n",
       " 150335,\n",
       " 84804,\n",
       " 187204,\n",
       " 116039,\n",
       " 275275,\n",
       " 4428,\n",
       " 279371,\n",
       " 116046,\n",
       " 39759,\n",
       " 222542,\n",
       " 109905,\n",
       " 189266,\n",
       " 90962,\n",
       " 180056,\n",
       " 86360,\n",
       " 51548,\n",
       " 68451,\n",
       " 79203,\n",
       " 116070,\n",
       " 259949,\n",
       " 148354,\n",
       " 269192,\n",
       " 115595,\n",
       " 218512,\n",
       " 145301,\n",
       " 66462,\n",
       " 138654,\n",
       " 281505,\n",
       " 242081,\n",
       " 145317,\n",
       " 175526,\n",
       " 52647,\n",
       " 157609,\n",
       " 251305,\n",
       " 189356,\n",
       " 217005,\n",
       " 154542,\n",
       " 99759,\n",
       " 161711,\n",
       " 208823,\n",
       " 131001,\n",
       " 116155,\n",
       " 92098,\n",
       " 182723,\n",
       " 271812,\n",
       " 46023,\n",
       " 184775,\n",
       " 107464,\n",
       " 139211,\n",
       " 269772,\n",
       " 166861,\n",
       " 220125,\n",
       " 176100,\n",
       " 215015,\n",
       " 281063,\n",
       " 118254,\n",
       " 10739,\n",
       " 264691,\n",
       " 134651,\n",
       " 128004,\n",
       " 271883,\n",
       " 201741,\n",
       " 217613,\n",
       " 43535,\n",
       " 273424,\n",
       " 252947,\n",
       " 244244,\n",
       " 48661,\n",
       " 241685,\n",
       " 147989,\n",
       " 177172,\n",
       " 114713,\n",
       " 208403,\n",
       " 241179,\n",
       " 206369,\n",
       " 228898,\n",
       " 39969,\n",
       " 169000,\n",
       " 247853,\n",
       " 208945,\n",
       " 148017,\n",
       " 205873,\n",
       " 108084,\n",
       " 165438,\n",
       " 5695,\n",
       " 23104,\n",
       " 105540,\n",
       " 281668,\n",
       " ...]"
      ]
     },
     "execution_count": 134,
     "metadata": {},
     "output_type": "execute_result"
    }
   ],
   "source": [
    "all_to_del"
   ]
  },
  {
   "cell_type": "code",
   "execution_count": 135,
   "metadata": {},
   "outputs": [
    {
     "data": {
      "image/png": "[encoded data removed]",
      "text/plain": [
       "<PIL.Image.Image image mode=RGB size=128x128 at 0x7F8D510F5F28>"
      ]
     },
     "execution_count": 135,
     "metadata": {},
     "output_type": "execute_result"
    }
   ],
   "source": [
    "Image.fromarray(dataset_look[4196][0].astype('uint8'))"
   ]
  },
  {
   "cell_type": "code",
   "execution_count": 31,
   "metadata": {},
   "outputs": [
    {
     "data": {
      "text/plain": [
       "(128, 128, 3)"
      ]
     },
     "execution_count": 31,
     "metadata": {},
     "output_type": "execute_result"
    }
   ],
   "source": [
    "dataset_look[arg[0]][0].shape"
   ]
  },
  {
   "cell_type": "code",
   "execution_count": 137,
   "metadata": {},
   "outputs": [
    {
     "data": {
      "text/plain": [
       "2744"
      ]
     },
     "execution_count": 137,
     "metadata": {},
     "output_type": "execute_result"
    }
   ],
   "source": [
    "all_to_del"
   ]
  },
  {
   "cell_type": "code",
   "execution_count": 138,
   "metadata": {},
   "outputs": [],
   "source": [
    "df = pd.read_csv(TRAIN_CSV_PATH, index_col=0)"
   ]
  },
  {
   "cell_type": "code",
   "execution_count": 156,
   "metadata": {},
   "outputs": [],
   "source": [
    "names_to_del = df.reset_index().loc[all_to_del, 'name'].values"
   ]
  },
  {
   "cell_type": "code",
   "execution_count": 157,
   "metadata": {},
   "outputs": [],
   "source": [
    "train_v4 = pd.read_csv('../ages_from_the_wild_true_cleared_stratify_reduced_train_v5.csv')\n",
    "test_v4 = pd.read_csv('../ages_from_the_wild_true_cleared_stratify_reduced_test_v5.csv')"
   ]
  },
  {
   "cell_type": "code",
   "execution_count": 159,
   "metadata": {},
   "outputs": [
    {
     "data": {
      "text/plain": [
       "(256874, 60)"
      ]
     },
     "execution_count": 159,
     "metadata": {},
     "output_type": "execute_result"
    }
   ],
   "source": [
    "train_v4.shape"
   ]
  },
  {
   "cell_type": "code",
   "execution_count": 163,
   "metadata": {},
   "outputs": [
    {
     "data": {
      "text/plain": [
       "(28542, 60)"
      ]
     },
     "execution_count": 163,
     "metadata": {},
     "output_type": "execute_result"
    }
   ],
   "source": [
    "test_v4.shape"
   ]
  },
  {
   "cell_type": "code",
   "execution_count": 164,
   "metadata": {},
   "outputs": [],
   "source": [
    "train_v4 = train_v4[~train_v4.name.isin(names_to_del)]\n",
    "test_v4 = test_v4[~test_v4.name.isin(names_to_del)]"
   ]
  },
  {
   "cell_type": "code",
   "execution_count": 165,
   "metadata": {},
   "outputs": [
    {
     "data": {
      "text/plain": [
       "(255438, 60)"
      ]
     },
     "execution_count": 165,
     "metadata": {},
     "output_type": "execute_result"
    }
   ],
   "source": [
    "train_v4.shape"
   ]
  },
  {
   "cell_type": "code",
   "execution_count": 166,
   "metadata": {},
   "outputs": [
    {
     "data": {
      "text/plain": [
       "(28397, 60)"
      ]
     },
     "execution_count": 166,
     "metadata": {},
     "output_type": "execute_result"
    }
   ],
   "source": [
    "test_v4.shape"
   ]
  },
  {
   "cell_type": "code",
   "execution_count": 167,
   "metadata": {},
   "outputs": [],
   "source": [
    "train_v4.to_csv('../ages_from_the_wild_true_cleared_stratify_reduced_train_v5.csv')\n",
    "test_v4.to_csv('../ages_from_the_wild_true_cleared_stratify_reduced_test_v5.csv')"
   ]
  },
  {
   "cell_type": "code",
   "execution_count": 170,
   "metadata": {},
   "outputs": [],
   "source": [
    "df[~df.name.isin(names_to_del)].to_csv(TRAIN_CSV_PATH)"
   ]
  },
  {
   "cell_type": "code",
   "execution_count": null,
   "metadata": {},
   "outputs": [],
   "source": []
  }
 ],
 "metadata": {
  "kernelspec": {
   "display_name": "Python 3",
   "language": "python",
   "name": "python3"
  },
  "language_info": {
   "codemirror_mode": {
    "name": "ipython",
    "version": 3
   },
   "file_extension": ".py",
   "mimetype": "text/x-python",
   "name": "python",
   "nbconvert_exporter": "python",
   "pygments_lexer": "ipython3",
   "version": "3.6.6"
  }
 },
 "nbformat": 4,
 "nbformat_minor": 4
}
