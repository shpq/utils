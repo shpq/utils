{
 "cells": [
  {
   "cell_type": "code",
   "execution_count": 1,
   "metadata": {},
   "outputs": [],
   "source": [
    "import os\n",
    "import random\n",
    "import shutil\n",
    "from PIL import Image\n",
    "from tqdm import tqdm"
   ]
  },
  {
   "cell_type": "code",
   "execution_count": null,
   "metadata": {},
   "outputs": [],
   "source": []
  },
  {
   "cell_type": "code",
   "execution_count": 2,
   "metadata": {},
   "outputs": [],
   "source": [
    "faces_train = os.listdir(\"faces/train/\")\n",
    "faces_test = os.listdir(\"faces/test/\")"
   ]
  },
  {
   "cell_type": "code",
   "execution_count": 3,
   "metadata": {},
   "outputs": [
    {
     "data": {
      "text/plain": [
       "500"
      ]
     },
     "execution_count": 3,
     "metadata": {},
     "output_type": "execute_result"
    }
   ],
   "source": [
    "len(faces_test)"
   ]
  },
  {
   "cell_type": "code",
   "execution_count": 39,
   "metadata": {},
   "outputs": [],
   "source": [
    "inter = len(list(set(faces_train) & set(faces_test)))"
   ]
  },
  {
   "cell_type": "code",
   "execution_count": 41,
   "metadata": {},
   "outputs": [
    {
     "name": "stderr",
     "output_type": "stream",
     "text": [
      "100%|██████████| 8631/8631 [00:21<00:00, 396.17it/s]  \n"
     ]
    }
   ],
   "source": [
    "for d in tqdm(faces_train):\n",
    "    fs = os.listdir(os.path.join(\"faces/train\", d))\n",
    "    n = len(fs)\n",
    "    if n < 1:\n",
    "        continue\n",
    "    photos_to_replace = random.sample(fs, max(int(n * 0.1), 1))\n",
    "    try:\n",
    "        os.mkdir(os.path.join(\"faces/test\", d))\n",
    "    except:\n",
    "        pass\n",
    "    for f in photos_to_replace:\n",
    "        shutil.move(os.path.join(\"faces/train\", d, f), os.path.join(\"faces/test\", d, f))\n"
   ]
  },
  {
   "cell_type": "code",
   "execution_count": 42,
   "metadata": {},
   "outputs": [
    {
     "data": {
      "text/plain": [
       "1"
      ]
     },
     "execution_count": 42,
     "metadata": {},
     "output_type": "execute_result"
    }
   ],
   "source": [
    "1"
   ]
  },
  {
   "cell_type": "code",
   "execution_count": 47,
   "metadata": {},
   "outputs": [
    {
     "name": "stderr",
     "output_type": "stream",
     "text": [
      "100%|██████████| 9131/9131 [01:16<00:00, 120.03it/s]\n"
     ]
    }
   ],
   "source": [
    "for d in tqdm(faces_test):\n",
    "    fs = os.listdir(os.path.join(\"faces/test\", d))\n",
    "    n = len(fs)\n",
    "    photos_to_replace = random.sample(fs, max(int(n * 0.9), 1))\n",
    "    try:\n",
    "        os.mkdir(os.path.join(\"faces/train\", d))\n",
    "    except:\n",
    "        pass\n",
    "    for f in photos_to_replace:\n",
    "        shutil.move(os.path.join(\"faces/test\", d, f), os.path.join(\"faces/train\", d, f))\n"
   ]
  },
  {
   "cell_type": "code",
   "execution_count": null,
   "metadata": {},
   "outputs": [],
   "source": []
  }
 ],
 "metadata": {
  "kernelspec": {
   "display_name": "Python 3",
   "language": "python",
   "name": "python3"
  },
  "language_info": {
   "codemirror_mode": {
    "name": "ipython",
    "version": 3
   },
   "file_extension": ".py",
   "mimetype": "text/x-python",
   "name": "python",
   "nbconvert_exporter": "python",
   "pygments_lexer": "ipython3",
   "version": "3.8.3"
  }
 },
 "nbformat": 4,
 "nbformat_minor": 4
}
