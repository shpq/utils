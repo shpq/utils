{
 "cells": [
  {
   "cell_type": "code",
   "execution_count": null,
   "metadata": {},
   "outputs": [
    {
     "name": "stdout",
     "output_type": "stream",
     "text": [
      "Please enter your VGG Face 2 credentials:\n"
     ]
    },
    {
     "name": "stdin",
     "output_type": "stream",
     "text": [
      "    User:  shpquen\n",
      "    Password:  ···············\n"
     ]
    },
    {
     "name": "stdout",
     "output_type": "stream",
     "text": [
      "Downloading file: `vggface2_train.tar.gz`\n",
      "36152.70 MiB downloaded..."
     ]
    }
   ],
   "source": [
    "import requests\n",
    "import getpass\n",
    "import sys\n",
    "LOGIN_URL = \"http://zeus.robots.ox.ac.uk/vgg_face2/login/\"\n",
    "FILE_URL = \"http://zeus.robots.ox.ac.uk/vgg_face2/get_file?fname=vggface2_train.tar.gz\"\n",
    "print('Please enter your VGG Face 2 credentials:')\n",
    "user_string = input('    User: ')\n",
    "password_string = getpass.getpass(prompt='    Password: ')\n",
    "payload = {\n",
    "    'username': user_string,\n",
    "    'password': password_string\n",
    "}\n",
    "session = requests.session()\n",
    "r = session.get(LOGIN_URL)\n",
    "if 'csrftoken' in session.cookies:\n",
    "    csrftoken = session.cookies['csrftoken']\n",
    "elif 'csrf' in session.cookies:\n",
    "    csrftoken = session.cookies['csrf']\n",
    "else:\n",
    "    raise ValueError(\"Unable to locate CSRF token.\")\n",
    "payload['csrfmiddlewaretoken'] = csrftoken\n",
    "r = session.post(LOGIN_URL, data=payload)\n",
    "filename = FILE_URL.split('=')[-1]\n",
    "with open(filename, \"wb\") as f:\n",
    "    print(f\"Downloading file: `{filename}`\")\n",
    "    r = session.get(FILE_URL, data=payload, stream=True)\n",
    "    bytes_written = 0\n",
    "    for data in r.iter_content(chunk_size=4096):\n",
    "        f.write(data)\n",
    "        bytes_written += len(data)\n",
    "        MiB = bytes_written / (1024 * 1024)\n",
    "        sys.stdout.write(f\"\\r{MiB:0.2f} MiB downloaded...\")\n",
    "        sys.stdout.flush()\n",
    "print(\"\\nDone.\")"
   ]
  },
  {
   "cell_type": "code",
   "execution_count": null,
   "metadata": {},
   "outputs": [],
   "source": [
    "!tar -xzf vggface2_train.tar.gz"
   ]
  },
  {
   "cell_type": "code",
   "execution_count": null,
   "metadata": {},
   "outputs": [],
   "source": [
    "1"
   ]
  },
  {
   "cell_type": "code",
   "execution_count": null,
   "metadata": {},
   "outputs": [],
   "source": []
  }
 ],
 "metadata": {
  "kernelspec": {
   "display_name": "Python 3",
   "language": "python",
   "name": "python3"
  },
  "language_info": {
   "codemirror_mode": {
    "name": "ipython",
    "version": 3
   },
   "file_extension": ".py",
   "mimetype": "text/x-python",
   "name": "python",
   "nbconvert_exporter": "python",
   "pygments_lexer": "ipython3",
   "version": "3.6.6"
  }
 },
 "nbformat": 4,
 "nbformat_minor": 4
}
