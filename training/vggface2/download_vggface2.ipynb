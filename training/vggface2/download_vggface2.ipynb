{
 "cells": [
  {
   "cell_type": "code",
   "execution_count": 2,
   "metadata": {},
   "outputs": [
    {
     "data": {
      "text/plain": [
       "'\\r36150.00 MiB downloaded...'"
      ]
     },
     "metadata": {},
     "output_type": "display_data"
    },
    {
     "name": "stdout",
     "output_type": "stream",
     "text": [
      "\n",
      "Done.\n"
     ]
    }
   ],
   "source": [
    "import requests\n",
    "import getpass\n",
    "import sys\n",
    "from IPython.display import display, clear_output\n",
    "\n",
    "LOGIN_URL = \"http://zeus.robots.ox.ac.uk/vgg_face2/login/\"\n",
    "FILE_URL = \"http://zeus.robots.ox.ac.uk/vgg_face2/get_file?fname=vggface2_train.tar.gz\"\n",
    "print('Please enter your VGG Face 2 credentials:')\n",
    "user_string = input('    User: ')\n",
    "password_string = getpass.getpass(prompt='    Password: ')\n",
    "payload = {\n",
    "    'username': user_string,\n",
    "    'password': password_string\n",
    "}\n",
    "session = requests.session()\n",
    "r = session.get(LOGIN_URL)\n",
    "if 'csrftoken' in session.cookies:\n",
    "    csrftoken = session.cookies['csrftoken']\n",
    "elif 'csrf' in session.cookies:\n",
    "    csrftoken = session.cookies['csrf']\n",
    "else:\n",
    "    raise ValueError(\"Unable to locate CSRF token.\")\n",
    "payload['csrfmiddlewaretoken'] = csrftoken\n",
    "r = session.post(LOGIN_URL, data=payload)\n",
    "filename = FILE_URL.split('=')[-1]\n",
    "with open(filename, \"wb\") as f:\n",
    "    print(f\"Downloading file: `{filename}`\")\n",
    "    r = session.get(FILE_URL, data=payload, stream=True)\n",
    "    bytes_written = 0\n",
    "    for data in r.iter_content(chunk_size=4096):\n",
    "        f.write(data)\n",
    "        bytes_written += len(data)\n",
    "        MiB = bytes_written / (1024 * 1024)\n",
    "        if MiB // 10 >:\n",
    "            \n",
    "            sys.stdout.write(f\"\\r{MiB:0.2f} MiB downloaded...\")\n",
    "            sys.stdout.flush()\n",
    "print(\"\\nDone.\")"
   ]
  },
  {
   "cell_type": "code",
   "execution_count": 4,
   "metadata": {},
   "outputs": [],
   "source": [
    "!tar -xzf vggface2_train.tar.gz"
   ]
  },
  {
   "cell_type": "code",
   "execution_count": 6,
   "metadata": {},
   "outputs": [
    {
     "name": "stdout",
     "output_type": "stream",
     "text": [
      "Requirement already satisfied: face-detection in c:\\users\\gansor\\anaconda3\\lib\\site-packages (0.1.4)\n",
      "Requirement already satisfied: torchvision>=0.3.0 in c:\\users\\gansor\\anaconda3\\lib\\site-packages (from face-detection) (0.7.0)\n",
      "Requirement already satisfied: torch>=1.1 in c:\\users\\gansor\\anaconda3\\lib\\site-packages (from face-detection) (1.6.0)\n",
      "Requirement already satisfied: numpy in c:\\users\\gansor\\anaconda3\\lib\\site-packages (from face-detection) (1.18.5)\n",
      "Requirement already satisfied: pillow>=4.1.1 in c:\\users\\gansor\\anaconda3\\lib\\site-packages (from torchvision>=0.3.0->face-detection) (7.2.0)\n",
      "Requirement already satisfied: future in c:\\users\\gansor\\anaconda3\\lib\\site-packages (from torch>=1.1->face-detection) (0.18.2)\n"
     ]
    }
   ],
   "source": [
    "!pip3 install face-detection"
   ]
  },
  {
   "cell_type": "code",
   "execution_count": 3,
   "metadata": {},
   "outputs": [
    {
     "data": {
      "text/plain": [
       "'\\r1930.00 MiB downloaded...'"
      ]
     },
     "metadata": {},
     "output_type": "display_data"
    },
    {
     "name": "stdout",
     "output_type": "stream",
     "text": [
      "\n",
      "Done.\n"
     ]
    }
   ],
   "source": [
    "import requests\n",
    "import getpass\n",
    "import sys\n",
    "from IPython.display import display, clear_output\n",
    "\n",
    "LOGIN_URL = \"http://zeus.robots.ox.ac.uk/vgg_face2/login/\"\n",
    "FILE_URL = \"http://zeus.robots.ox.ac.uk/vgg_face2/get_file?fname=vggface2_test.tar.gz\"\n",
    "print('Please enter your VGG Face 2 credentials:')\n",
    "user_string = input('    User: ')\n",
    "password_string = getpass.getpass(prompt='    Password: ')\n",
    "payload = {\n",
    "    'username': user_string,\n",
    "    'password': password_string\n",
    "}\n",
    "session = requests.session()\n",
    "r = session.get(LOGIN_URL)\n",
    "if 'csrftoken' in session.cookies:\n",
    "    csrftoken = session.cookies['csrftoken']\n",
    "elif 'csrf' in session.cookies:\n",
    "    csrftoken = session.cookies['csrf']\n",
    "else:\n",
    "    raise ValueError(\"Unable to locate CSRF token.\")\n",
    "payload['csrfmiddlewaretoken'] = csrftoken\n",
    "r = session.post(LOGIN_URL, data=payload)\n",
    "filename = FILE_URL.split('=')[-1]\n",
    "last = 0\n",
    "with open(filename, \"wb\") as f:\n",
    "    print(f\"Downloading file: `{filename}`\")\n",
    "    r = session.get(FILE_URL, data=payload, stream=True)\n",
    "    bytes_written = 0\n",
    "    for data in r.iter_content(chunk_size=4096):\n",
    "        f.write(data)\n",
    "        bytes_written += len(data)\n",
    "        MiB = bytes_written / (1024 * 1024)\n",
    "        if MiB // 10 > last:\n",
    "            last = MiB // 10\n",
    "            clear_output()\n",
    "            display(f\"\\r{MiB:0.2f} MiB downloaded...\")\n",
    "print(\"\\nDone.\")"
   ]
  },
  {
   "cell_type": "code",
   "execution_count": 5,
   "metadata": {},
   "outputs": [],
   "source": [
    "!tar -xzf vggface2_test.tar.gz"
   ]
  },
  {
   "cell_type": "code",
   "execution_count": null,
   "metadata": {},
   "outputs": [],
   "source": []
  }
 ],
 "metadata": {
  "kernelspec": {
   "display_name": "Python 3",
   "language": "python",
   "name": "python3"
  },
  "language_info": {
   "codemirror_mode": {
    "name": "ipython",
    "version": 3
   },
   "file_extension": ".py",
   "mimetype": "text/x-python",
   "name": "python",
   "nbconvert_exporter": "python",
   "pygments_lexer": "ipython3",
   "version": "3.8.3"
  }
 },
 "nbformat": 4,
 "nbformat_minor": 4
}
